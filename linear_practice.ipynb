{
  "nbformat": 4,
  "nbformat_minor": 0,
  "metadata": {
    "colab": {
      "provenance": [],
      "collapsed_sections": [],
      "authorship_tag": "ABX9TyMCNTeiOrMkgam0V6p0l+ls",
      "include_colab_link": true
    },
    "kernelspec": {
      "name": "python3",
      "display_name": "Python 3"
    },
    "language_info": {
      "name": "python"
    }
  },
  "cells": [
    {
      "cell_type": "markdown",
      "metadata": {
        "id": "view-in-github",
        "colab_type": "text"
      },
      "source": [
        "<a href=\"https://colab.research.google.com/github/HyunSoo-Lee/3rd-grade-codes/blob/Machine-Learning/linear_practice.ipynb\" target=\"_parent\"><img src=\"https://colab.research.google.com/assets/colab-badge.svg\" alt=\"Open In Colab\"/></a>"
      ]
    },
    {
      "cell_type": "code",
      "execution_count": null,
      "metadata": {
        "id": "zyh5HxlY8glt"
      },
      "outputs": [],
      "source": [
        "from sklearn.linear_model import LinearRegression\n",
        "\n",
        "import numpy as np\n",
        "\n",
        "perch_length = np.array(\n",
        "    [8.4, 13.7, 15.0, 16.2, 17.4, 18.0, 18.7, 19.0, 19.6, 20.0, \n",
        "     21.0, 21.0, 21.0, 21.3, 22.0, 22.0, 22.0, 22.0, 22.0, 22.5, \n",
        "     22.5, 22.7, 23.0, 23.5, 24.0, 24.0, 24.6, 25.0, 25.6, 26.5, \n",
        "     27.3, 27.5, 27.5, 27.5, 28.0, 28.7, 30.0, 32.8, 34.5, 35.0, \n",
        "     36.5, 36.0, 37.0, 37.0, 39.0, 39.0, 39.0, 40.0, 40.0, 40.0, \n",
        "     40.0, 42.0, 43.0, 43.0, 43.5, 44.0]\n",
        "     )\n",
        "perch_weight = np.array(\n",
        "    [5.9, 32.0, 40.0, 51.5, 70.0, 100.0, 78.0, 80.0, 85.0, 85.0, \n",
        "     110.0, 115.0, 125.0, 130.0, 120.0, 120.0, 130.0, 135.0, 110.0, \n",
        "     130.0, 150.0, 145.0, 150.0, 170.0, 225.0, 145.0, 188.0, 180.0, \n",
        "     197.0, 218.0, 300.0, 260.0, 265.0, 250.0, 250.0, 300.0, 320.0, \n",
        "     514.0, 556.0, 840.0, 685.0, 700.0, 700.0, 690.0, 900.0, 650.0, \n",
        "     820.0, 850.0, 900.0, 1015.0, 820.0, 1100.0, 1000.0, 1100.0, \n",
        "     1000.0, 1000.0]\n",
        "     )"
      ]
    },
    {
      "cell_type": "code",
      "source": [
        "from sklearn.model_selection import train_test_split\n",
        "\n",
        "# 훈련 세트와 테스트 세트로 나눕니다\n",
        "train_input, test_input, train_target, test_target = train_test_split(\n",
        "    perch_length, perch_weight, random_state=42)\n",
        "# 훈련 세트와 테스트 세트를 2차원 배열로 바꿉니다\n",
        "train_input = train_input.reshape(-1, 1)\n",
        "test_input = test_input.reshape(-1, 1)\n",
        "#여기까진 knnr과 동일"
      ],
      "metadata": {
        "id": "6HApYssD8u1X"
      },
      "execution_count": null,
      "outputs": []
    },
    {
      "cell_type": "code",
      "source": [
        "train_poly = np.column_stack((train_input ** 3, train_input ** 2, train_input))\n",
        "test_poly = np.column_stack((test_input ** 3, test_input ** 2, test_input))\n",
        "#train_input과 test_input 대신 사용할 두 array\n",
        "\n",
        "print(train_poly[:5])\n",
        "#5개 예시 프린트\n",
        "\n",
        "print(train_poly.shape, test_poly.shape)\n",
        "print(train_input.shape, test_input.shape)\n",
        "#세제곱에 대한 원소들이 들어가야 하므로, shape 함수를 썼을때 1이 아닌 3이 나온다.\n"
      ],
      "metadata": {
        "id": "Bo8F5zzq81xF"
      },
      "execution_count": null,
      "outputs": []
    },
    {
      "cell_type": "code",
      "source": [
        "lr = LinearRegression()\n",
        "lr.fit(train_poly, train_target)\n",
        "print(lr.predict([[50**3, 50**2, 50]]))\n",
        "#예측값 출력\n",
        "\n",
        "print(lr.coef_, lr.intercept_)\n",
        "# y = ax^3 + bx^2 + cx + d"
      ],
      "metadata": {
        "id": "lPRxcVhp9Gv6"
      },
      "execution_count": null,
      "outputs": []
    },
    {
      "cell_type": "code",
      "source": [
        "import matplotlib.pyplot as plt\n",
        "point = np.arange(15, 50)\n",
        "plt.scatter(train_input, train_target)\n",
        "# 15에서 49까지 3차 방정식 그래프 - 위에 50번째 줄에서 나온 abcd값을 대입, point가 변수\n",
        "plt.plot(point, lr.coef_[0]*point**3 + lr.coef_[1]*point**2 + lr.coef_[2]*point + lr.intercept_)\n",
        "# 50cm 농어 데이터 - predict 결과 - 표시할 마크\n",
        "plt.scatter([50], [1379.41727785], marker='^')\n",
        "plt.xlabel('length')\n",
        "plt.ylabel('weight')\n",
        "plt.show()"
      ],
      "metadata": {
        "id": "R9xuWfob9LZu"
      },
      "execution_count": null,
      "outputs": []
    }
  ]
}